{
  "cells": [
    {
      "cell_type": "markdown",
      "metadata": {
        "id": "IqjyGXy8cctc"
      },
      "source": [
        "# Linear regression "
      ]
    },
    {
      "cell_type": "markdown",
      "metadata": {
        "id": "EGvsyb-qccth"
      },
      "source": [
        "## import library"
      ]
    },
    {
      "cell_type": "code",
      "execution_count": 1,
      "metadata": {
        "id": "FmRVe0Doccti"
      },
      "outputs": [],
      "source": [
        "import numpy as np\n",
        "import matplotlib.image as img\n",
        "import matplotlib.pyplot as plt\n",
        "import matplotlib.colors as colors\n",
        "from mpl_toolkits.mplot3d import Axes3D"
      ]
    },
    {
      "cell_type": "code",
      "source": [
        "from google.colab import drive\n",
        "drive.mount('/content/drive')\n"
      ],
      "metadata": {
        "colab": {
          "base_uri": "https://localhost:8080/"
        },
        "id": "g2z_grImcdd9",
        "outputId": "ccc98439-763f-4913-e883-5ff53321079c"
      },
      "execution_count": 2,
      "outputs": [
        {
          "output_type": "stream",
          "name": "stdout",
          "text": [
            "Mounted at /content/drive\n"
          ]
        }
      ]
    },
    {
      "cell_type": "code",
      "source": [
        "cd /content/drive/MyDrive/ML"
      ],
      "metadata": {
        "colab": {
          "base_uri": "https://localhost:8080/"
        },
        "id": "bxDlQwZQcigA",
        "outputId": "62af6e21-b37d-477a-9af0-14eb51269b25"
      },
      "execution_count": 3,
      "outputs": [
        {
          "output_type": "stream",
          "name": "stdout",
          "text": [
            "/content/drive/MyDrive/ML\n"
          ]
        }
      ]
    },
    {
      "cell_type": "markdown",
      "metadata": {
        "id": "mu6hlMJ8cctj"
      },
      "source": [
        "## load data points\n",
        "- $\\{ (x_i, y_i) \\}_{i=1}^n$"
      ]
    },
    {
      "cell_type": "code",
      "execution_count": 4,
      "metadata": {
        "colab": {
          "base_uri": "https://localhost:8080/",
          "height": 441
        },
        "id": "oXe1bb6ncctj",
        "outputId": "07127990-1464-446e-f87a-c86930ec7648"
      },
      "outputs": [
        {
          "output_type": "display_data",
          "data": {
            "text/plain": [
              "<Figure size 576x432 with 1 Axes>"
            ],
            "image/png": "[encoded data removed]"
          },
          "metadata": {
            "needs_background": "light"
          }
        }
      ],
      "source": [
        "filename    = 'assignment_06_data.csv'\n",
        "data        = np.loadtxt(filename, delimiter = ',')\n",
        "\n",
        "x           = data[0, :]    # independent variable\n",
        "y           = data[1, :]    # dependent variable\n",
        "\n",
        "plt.figure(figsize=(8,6))\n",
        "\n",
        "plt.plot(x, y, '.', color = 'blue')\n",
        "plt.title('data points')\n",
        "\n",
        "plt.tight_layout()\n",
        "plt.show()"
      ]
    },
    {
      "cell_type": "markdown",
      "metadata": {
        "id": "2Rhv2Voucctk"
      },
      "source": [
        "## compute the residual"
      ]
    },
    {
      "cell_type": "code",
      "execution_count": 5,
      "metadata": {
        "id": "8W4O3uiMcctk"
      },
      "outputs": [],
      "source": [
        "def compute_residual(x, y, theta0, theta1):\n",
        "\n",
        "    n           = len(x)\n",
        "    residual    = np.zeros(n)\n",
        "\n",
        "    # ++++++++++++++++++++++++++++++++++++++++++++++++++\n",
        "    # complete the blanks\n",
        "    #\n",
        "    x = x.reshape(n, 1)\n",
        "    y = y.reshape(n, 1)\n",
        "    residual = theta0 + theta1*x - y\n",
        "    \n",
        "    #\n",
        "    # ++++++++++++++++++++++++++++++++++++++++++++++++++\n",
        "\n",
        "    return residual"
      ]
    },
    {
      "cell_type": "markdown",
      "metadata": {
        "id": "eSumys1Pcctl"
      },
      "source": [
        "## compute the loss\n",
        "- useful functions: `np.inner`"
      ]
    },
    {
      "cell_type": "code",
      "execution_count": 12,
      "metadata": {
        "id": "YoYfj293cctl"
      },
      "outputs": [],
      "source": [
        "def compute_loss(x, y, theta0, theta1):\n",
        "    \n",
        "    n           = len(x)\n",
        "    loss        = 0\n",
        "\n",
        "    # ++++++++++++++++++++++++++++++++++++++++++++++++++\n",
        "    # complete the blanks\n",
        "    #\n",
        "    r = compute_residual(x, y, theta0, theta1)\n",
        "    loss = np.sum(1/2/len(x)*(np.inner((np.transpose(r) , r))))\n",
        "    \n",
        "    #\n",
        "    # ++++++++++++++++++++++++++++++++++++++++++++++++++\n",
        "    \n",
        "    return loss"
      ]
    },
    {
      "cell_type": "markdown",
      "metadata": {
        "id": "D0zg70PScctl"
      },
      "source": [
        "## compute the gradient with respect to $\\theta_0$\n",
        "- useful functions: `np.inner`"
      ]
    },
    {
      "cell_type": "code",
      "execution_count": null,
      "metadata": {
        "id": "MOlDZvBPcctm"
      },
      "outputs": [],
      "source": [
        "def compute_gradient_theta0(x, y, theta0, theta1):\n",
        "\n",
        "    n           = len(x)\n",
        "    derivative  = 0\n",
        "\n",
        "    # ++++++++++++++++++++++++++++++++++++++++++++++++++\n",
        "    # complete the blanks\n",
        "    #\n",
        "    \n",
        "    \n",
        "    \n",
        "    #\n",
        "    # ++++++++++++++++++++++++++++++++++++++++++++++++++\n",
        "    \n",
        "    return derivative"
      ]
    },
    {
      "cell_type": "markdown",
      "metadata": {
        "id": "Vl5yOrE4cctm"
      },
      "source": [
        "## compute the gradient with respect to $\\theta_1$\n",
        "- useful functions: `np.inner`"
      ]
    },
    {
      "cell_type": "code",
      "execution_count": null,
      "metadata": {
        "id": "zpSVTXZZcctm"
      },
      "outputs": [],
      "source": [
        "def compute_gradient_theta1(x, y, theta0, theta1):\n",
        "\n",
        "    n           = len(x)\n",
        "    derivative  = 0\n",
        "\n",
        "    # ++++++++++++++++++++++++++++++++++++++++++++++++++\n",
        "    # complete the blanks\n",
        "    #\n",
        "    \n",
        "    \n",
        "    \n",
        "    #\n",
        "    # ++++++++++++++++++++++++++++++++++++++++++++++++++\n",
        "\n",
        "    return derivative"
      ]
    },
    {
      "cell_type": "markdown",
      "metadata": {
        "id": "6pq7puMQcctm"
      },
      "source": [
        "## gradient descent for the optimization "
      ]
    },
    {
      "cell_type": "code",
      "execution_count": null,
      "metadata": {
        "id": "isi_CKhecctn"
      },
      "outputs": [],
      "source": [
        "number_iteration    = 500\n",
        "learning_rate       = 0.01\n",
        "\n",
        "theta0              = 0\n",
        "theta1              = 0\n",
        "\n",
        "list_theta0         = np.zeros(number_iteration)\n",
        "list_theta1         = np.zeros(number_iteration)\n",
        "list_loss           = np.zeros(number_iteration)\n",
        "\n",
        "for i in range(number_iteration):\n",
        "\n",
        "    # ++++++++++++++++++++++++++++++++++++++++++++++++++\n",
        "    # complete the blanks\n",
        "    #\n",
        "    theta0  = \n",
        "    theta1  = \n",
        "    loss    = \n",
        "    #\n",
        "    # ++++++++++++++++++++++++++++++++++++++++++++++++++\n",
        "\n",
        "    list_theta0[i]  = theta0\n",
        "    list_theta1[i]  = theta1\n",
        "    list_loss[i]    = loss"
      ]
    },
    {
      "cell_type": "markdown",
      "metadata": {
        "id": "HfqXOoyVcctn"
      },
      "source": [
        "___"
      ]
    },
    {
      "cell_type": "markdown",
      "metadata": {
        "id": "3RSg9u8jcctn"
      },
      "source": [
        "___"
      ]
    },
    {
      "cell_type": "markdown",
      "metadata": {
        "id": "NzPGtsUfcctn"
      },
      "source": [
        "## functions for presenting the results"
      ]
    },
    {
      "cell_type": "markdown",
      "metadata": {
        "id": "3WTbAC5rcctn"
      },
      "source": [
        "___"
      ]
    },
    {
      "cell_type": "markdown",
      "metadata": {
        "id": "ykuLpI7kcctn"
      },
      "source": [
        "___"
      ]
    },
    {
      "cell_type": "code",
      "execution_count": 6,
      "metadata": {
        "id": "bpMDCAvEccto"
      },
      "outputs": [],
      "source": [
        "def function_result_01():\n",
        "    \n",
        "    plt.figure(figsize=(8,6))\n",
        "    plt.plot(x, y, '.', color='blue')\n",
        "    plt.title('data points')\n",
        "    plt.show()"
      ]
    },
    {
      "cell_type": "code",
      "execution_count": 7,
      "metadata": {
        "id": "uW9JDhRFccto"
      },
      "outputs": [],
      "source": [
        "def function_result_02():\n",
        "\n",
        "    plt.figure(figsize=(8,6))\n",
        "    ax = plt.gca()\n",
        "    plt.plot(list_theta0, '-', color='blue', label=r'$\\theta_0$')\n",
        "    plt.plot(list_theta1, '-', color='red', label=r'$\\theta_1$')\n",
        "    plt.title('model parameters')\n",
        "    ax.legend()\n",
        "    plt.show()"
      ]
    },
    {
      "cell_type": "code",
      "execution_count": 8,
      "metadata": {
        "id": "51JFce9Kccto"
      },
      "outputs": [],
      "source": [
        "def function_result_03():\n",
        "\n",
        "    plt.figure(figsize=(8,6))\n",
        "    plt.plot(list_loss, '-', color='blue')\n",
        "    plt.title('loss curve')\n",
        "    plt.show()"
      ]
    },
    {
      "cell_type": "code",
      "execution_count": 9,
      "metadata": {
        "id": "yLBaXaX2ccto"
      },
      "outputs": [],
      "source": [
        "def function_result_04():\n",
        "\n",
        "    f = theta0 + theta1 * x\n",
        "\n",
        "    plt.figure(figsize=(8,6))\n",
        "    ax = plt.gca()\n",
        "    plt.plot(x, y, '.', color='blue', label='data point')\n",
        "    plt.plot(x, f, '-', color='red', label='regression')\n",
        "    plt.title('regression')\n",
        "    ax.legend()\n",
        "    plt.show()"
      ]
    },
    {
      "cell_type": "code",
      "execution_count": 10,
      "metadata": {
        "id": "ilgU969lccto"
      },
      "outputs": [],
      "source": [
        "def function_result_05():\n",
        "\n",
        "    X0  = np.arange(-10, 10, 0.1)\n",
        "    X1  = np.arange(-10, 10, 0.1)\n",
        "\n",
        "    grid_theta0, grid_theta1 = np.meshgrid(X0, X1)\n",
        "\n",
        "    grid_loss   = np.zeros(grid_theta0.shape)\n",
        "\n",
        "    for i, t0 in enumerate(X0):\n",
        "        for j, t1 in enumerate(X1):\n",
        "\n",
        "            grid_loss[j, i] = compute_loss(x, y, t0, t1)\n",
        "\n",
        "    fig = plt.figure(figsize=(8,6))\n",
        "\n",
        "    ax  = fig.add_subplot(111, projection='3d')\n",
        "    plt.title('loss surface')\n",
        "\n",
        "    ax  = plt.axes(projection='3d')\n",
        "\n",
        "    ax.set_xlabel(r'$\\theta_0$')\n",
        "    ax.set_ylabel(r'$\\theta_1$')\n",
        "    ax.set_zlabel('loss')\n",
        "\n",
        "    ax.plot_surface(grid_theta0, grid_theta1, grid_loss, rstride=1, cstride=1, cmap='viridis', edgecolor='none')\n",
        "\n",
        "    plt.tight_layout()\n",
        "    plt.show()\n",
        "    "
      ]
    },
    {
      "cell_type": "markdown",
      "metadata": {
        "id": "Mt6-pntdcctp"
      },
      "source": [
        "___"
      ]
    },
    {
      "cell_type": "markdown",
      "metadata": {
        "id": "OkfBSkhccctp"
      },
      "source": [
        "___"
      ]
    },
    {
      "cell_type": "markdown",
      "metadata": {
        "id": "ai2mv_Ewcctp"
      },
      "source": [
        "# results"
      ]
    },
    {
      "cell_type": "markdown",
      "metadata": {
        "id": "xXX9M4ePcctp"
      },
      "source": [
        "___"
      ]
    },
    {
      "cell_type": "markdown",
      "metadata": {
        "id": "MXcOD939cctp"
      },
      "source": [
        "___"
      ]
    },
    {
      "cell_type": "code",
      "execution_count": 13,
      "metadata": {
        "id": "FgxivXYucctp",
        "colab": {
          "base_uri": "https://localhost:8080/",
          "height": 1000
        },
        "outputId": "30f42703-1225-4da7-a642-41ff5cceefb4"
      },
      "outputs": [
        {
          "output_type": "stream",
          "name": "stdout",
          "text": [
            "**************************************************\n",
            "## [RESULT 01]\n",
            "**************************************************\n"
          ]
        },
        {
          "output_type": "display_data",
          "data": {
            "text/plain": [
              "<Figure size 576x432 with 1 Axes>"
            ],
            "image/png": "[encoded data removed]"
          },
          "metadata": {
            "needs_background": "light"
          }
        },
        {
          "output_type": "stream",
          "name": "stdout",
          "text": [
            "**************************************************\n",
            "## [RESULT 02]\n",
            "**************************************************\n"
          ]
        },
        {
          "output_type": "error",
          "ename": "NameError",
          "evalue": "ignored",
          "traceback": [
            "\u001b[0;31m---------------------------------------------------------------------------\u001b[0m",
            "\u001b[0;31mNameError\u001b[0m                                 Traceback (most recent call last)",
            "\u001b[0;32m<ipython-input-13-6f3575304cdf>\u001b[0m in \u001b[0;36m<module>\u001b[0;34m()\u001b[0m\n\u001b[1;32m      8\u001b[0m     \u001b[0mprint\u001b[0m\u001b[0;34m(\u001b[0m\u001b[0mtitle\u001b[0m\u001b[0;34m)\u001b[0m\u001b[0;34m\u001b[0m\u001b[0;34m\u001b[0m\u001b[0m\n\u001b[1;32m      9\u001b[0m     \u001b[0mprint\u001b[0m\u001b[0;34m(\u001b[0m\u001b[0;34m'**************************************************'\u001b[0m\u001b[0;34m)\u001b[0m\u001b[0;34m\u001b[0m\u001b[0;34m\u001b[0m\u001b[0m\n\u001b[0;32m---> 10\u001b[0;31m     \u001b[0meval\u001b[0m\u001b[0;34m(\u001b[0m\u001b[0mname_function\u001b[0m\u001b[0;34m)\u001b[0m\u001b[0;34m\u001b[0m\u001b[0;34m\u001b[0m\u001b[0m\n\u001b[0m",
            "\u001b[0;32m<string>\u001b[0m in \u001b[0;36m<module>\u001b[0;34m()\u001b[0m\n",
            "\u001b[0;32m<ipython-input-7-40a072a07380>\u001b[0m in \u001b[0;36mfunction_result_02\u001b[0;34m()\u001b[0m\n\u001b[1;32m      3\u001b[0m     \u001b[0mplt\u001b[0m\u001b[0;34m.\u001b[0m\u001b[0mfigure\u001b[0m\u001b[0;34m(\u001b[0m\u001b[0mfigsize\u001b[0m\u001b[0;34m=\u001b[0m\u001b[0;34m(\u001b[0m\u001b[0;36m8\u001b[0m\u001b[0;34m,\u001b[0m\u001b[0;36m6\u001b[0m\u001b[0;34m)\u001b[0m\u001b[0;34m)\u001b[0m\u001b[0;34m\u001b[0m\u001b[0;34m\u001b[0m\u001b[0m\n\u001b[1;32m      4\u001b[0m     \u001b[0max\u001b[0m \u001b[0;34m=\u001b[0m \u001b[0mplt\u001b[0m\u001b[0;34m.\u001b[0m\u001b[0mgca\u001b[0m\u001b[0;34m(\u001b[0m\u001b[0;34m)\u001b[0m\u001b[0;34m\u001b[0m\u001b[0;34m\u001b[0m\u001b[0m\n\u001b[0;32m----> 5\u001b[0;31m     \u001b[0mplt\u001b[0m\u001b[0;34m.\u001b[0m\u001b[0mplot\u001b[0m\u001b[0;34m(\u001b[0m\u001b[0mlist_theta0\u001b[0m\u001b[0;34m,\u001b[0m \u001b[0;34m'-'\u001b[0m\u001b[0;34m,\u001b[0m \u001b[0mcolor\u001b[0m\u001b[0;34m=\u001b[0m\u001b[0;34m'blue'\u001b[0m\u001b[0;34m,\u001b[0m \u001b[0mlabel\u001b[0m\u001b[0;34m=\u001b[0m\u001b[0;34mr'$\\theta_0$'\u001b[0m\u001b[0;34m)\u001b[0m\u001b[0;34m\u001b[0m\u001b[0;34m\u001b[0m\u001b[0m\n\u001b[0m\u001b[1;32m      6\u001b[0m     \u001b[0mplt\u001b[0m\u001b[0;34m.\u001b[0m\u001b[0mplot\u001b[0m\u001b[0;34m(\u001b[0m\u001b[0mlist_theta1\u001b[0m\u001b[0;34m,\u001b[0m \u001b[0;34m'-'\u001b[0m\u001b[0;34m,\u001b[0m \u001b[0mcolor\u001b[0m\u001b[0;34m=\u001b[0m\u001b[0;34m'red'\u001b[0m\u001b[0;34m,\u001b[0m \u001b[0mlabel\u001b[0m\u001b[0;34m=\u001b[0m\u001b[0;34mr'$\\theta_1$'\u001b[0m\u001b[0;34m)\u001b[0m\u001b[0;34m\u001b[0m\u001b[0;34m\u001b[0m\u001b[0m\n\u001b[1;32m      7\u001b[0m     \u001b[0mplt\u001b[0m\u001b[0;34m.\u001b[0m\u001b[0mtitle\u001b[0m\u001b[0;34m(\u001b[0m\u001b[0;34m'model parameters'\u001b[0m\u001b[0;34m)\u001b[0m\u001b[0;34m\u001b[0m\u001b[0;34m\u001b[0m\u001b[0m\n",
            "\u001b[0;31mNameError\u001b[0m: name 'list_theta0' is not defined"
          ]
        },
        {
          "output_type": "display_data",
          "data": {
            "text/plain": [
              "<Figure size 576x432 with 1 Axes>"
            ],
            "image/png": "[encoded data removed]"
          },
          "metadata": {
            "needs_background": "light"
          }
        }
      ],
      "source": [
        "number_result = 5\n",
        "\n",
        "for i in range(number_result):\n",
        "    title = '## [RESULT {:02d}]'.format(i+1)\n",
        "    name_function = 'function_result_{:02d}()'.format(i+1)\n",
        "\n",
        "    print('**************************************************')\n",
        "    print(title)\n",
        "    print('**************************************************')\n",
        "    eval(name_function)"
      ]
    },
    {
      "cell_type": "code",
      "execution_count": null,
      "metadata": {
        "id": "WJ42tiLtcctp"
      },
      "outputs": [],
      "source": [
        ""
      ]
    }
  ],
  "metadata": {
    "kernelspec": {
      "display_name": "Python 3",
      "language": "python",
      "name": "python3"
    },
    "language_info": {
      "codemirror_mode": {
        "name": "ipython",
        "version": 3
      },
      "file_extension": ".py",
      "mimetype": "text/x-python",
      "name": "python",
      "nbconvert_exporter": "python",
      "pygments_lexer": "ipython3",
      "version": "3.8.8"
    },
    "colab": {
      "name": "assignment_06.ipynb",
      "provenance": [],
      "collapsed_sections": []
    }
  },
  "nbformat": 4,
  "nbformat_minor": 0
}