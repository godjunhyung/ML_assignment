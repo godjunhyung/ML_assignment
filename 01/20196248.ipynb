{
 "cells": [
  {
   "cell_type": "code",
   "execution_count": 40,
   "metadata": {
    "id": "IprZm8RoAlR9"
   },
   "outputs": [],
   "source": [
    "import pandas as pd\n",
    "from sklearn.preprocessing import LabelEncoder\n",
    "from sklearn.preprocessing import StandardScaler\n",
    "from sklearn.neighbors import KNeighborsClassifier\n",
    "from sklearn.metrics import accuracy_score\n",
    "from sklearn.model_selection import train_test_split"
   ]
  },
  {
   "cell_type": "code",
   "execution_count": 27,
   "metadata": {
    "id": "ilNgnDMlAwXR"
   },
   "outputs": [],
   "source": [
    "#컬럼이름\n",
    "col_names = ['Age', 'Workclass', 'Fnlwgt', 'Educational-num', 'Marital-status', 'Hours-per-week','target']"
   ]
  },
  {
   "cell_type": "code",
   "execution_count": 43,
   "metadata": {},
   "outputs": [],
   "source": [
    "\n",
    "df = pd.read_csv('satisfaction_data.csv', low_memory = False)\n"
   ]
  },
  {
   "cell_type": "code",
   "execution_count": 44,
   "metadata": {
    "colab": {
     "base_uri": "https://localhost:8080/"
    },
    "id": "KFfK2OP5AyR8",
    "outputId": "da9fdab2-897d-4210-8076-37b43fa36a42",
    "scrolled": true
   },
   "outputs": [
    {
     "name": "stdout",
     "output_type": "stream",
     "text": [
      "(20000, 7)\n",
      "<class 'pandas.core.frame.DataFrame'>\n",
      "RangeIndex: 20000 entries, 0 to 19999\n",
      "Data columns (total 7 columns):\n",
      " #   Column           Non-Null Count  Dtype \n",
      "---  ------           --------------  ----- \n",
      " 0   Age              20000 non-null  int64 \n",
      " 1   Workclass        20000 non-null  int64 \n",
      " 2   Fnlwgt           20000 non-null  int64 \n",
      " 3   Educational-num  20000 non-null  int64 \n",
      " 4   Marital-status   20000 non-null  int64 \n",
      " 5   Hours-per-week   20000 non-null  int64 \n",
      " 6   target           20000 non-null  object\n",
      "dtypes: int64(6), object(1)\n",
      "memory usage: 1.1+ MB\n",
      "None\n",
      "                Age     Workclass        Fnlwgt  Educational-num  \\\n",
      "count  20000.000000  20000.000000  20000.000000     2.000000e+04   \n",
      "mean      43.220150      2.358600      1.170800     1.847070e+05   \n",
      "std       11.842909      1.136825      0.564396     1.011263e+05   \n",
      "min        1.000000      0.000000      0.000000     1.376900e+04   \n",
      "25%       40.000000      2.000000      1.000000     1.148212e+05   \n",
      "50%       40.000000      2.000000      1.000000     1.759280e+05   \n",
      "75%       50.000000      2.000000      2.000000     2.318010e+05   \n",
      "max       99.000000      5.000000      2.000000     1.097453e+06   \n",
      "\n",
      "       Marital-status  Hours-per-week  \n",
      "count    20000.000000    20000.000000  \n",
      "mean        39.434400       10.304350  \n",
      "std         12.877026        2.454938  \n",
      "min         17.000000        1.000000  \n",
      "25%         30.000000        9.000000  \n",
      "50%         38.000000       10.000000  \n",
      "75%         48.000000       13.000000  \n",
      "max         90.000000       16.000000  \n"
     ]
    }
   ],
   "source": [
    "dataset = pd.read_csv('satisfaction_data.csv', encoding='UTF-8', header=None, names=col_names)\n",
    "\n",
    "# DataFrame 확인\n",
    "print(dataset.shape) # (row개수, column개수)\n",
    "print(dataset.info()) # 데이터 타입, row 개수, column 개수, 컬럼 데이터 타입\n",
    "print(dataset.describe()) # 요약 통계 정보"
   ]
  },
  {
   "cell_type": "code",
   "execution_count": 45,
   "metadata": {},
   "outputs": [],
   "source": [
    "X = dataset.drop(columns=['target'])\n",
    "y = dataset['target']"
   ]
  },
  {
   "cell_type": "code",
   "execution_count": 46,
   "metadata": {},
   "outputs": [],
   "source": [
    "# 스케일러 설정\n",
    "sc= StandardScaler()\n",
    "sc_x = sc.fit_transform(X)"
   ]
  },
  {
   "cell_type": "code",
   "execution_count": 47,
   "metadata": {
    "scrolled": true
   },
   "outputs": [
    {
     "name": "stdout",
     "output_type": "stream",
     "text": [
      "0 done\n",
      "1 done\n",
      "2 done\n",
      "3 done\n",
      "4 done\n",
      "5 done\n",
      "6 done\n",
      "7 done\n",
      "8 done\n",
      "9 done\n"
     ]
    }
   ],
   "source": [
    "model = []\n",
    "acc = []\n",
    "result = []\n",
    "# 10개의 데이터셋 분할을 위한 반복문\n",
    "for m in range(10):\n",
    "    \n",
    "    #random_state를 달리하여 데이터셋 분할\n",
    "    X_train,X_test , y_train,y_test = train_test_split(sc_x,y,stratify=y,random_state=m)\n",
    "    #각 데이터셋 저장\n",
    "    pd.DataFrame(X_train).to_csv(f'X_train_{m}.csv',index=False)\n",
    "    pd.DataFrame(X_test).to_csv(f'X_test_{m}.csv',index=False)\n",
    "    pd.DataFrame(y_train).to_csv(f'y_train_{m}.csv',index=False)\n",
    "    pd.DataFrame(y_test).to_csv(f'y_test_{m}.csv',index=False)\n",
    "    k_lst = []\n",
    "    Max_score = 0\n",
    "    \n",
    "    #하이퍼 파라미터 튜닝을 위한 반복분\n",
    "    \n",
    "    # k값변화\n",
    "    for k in range(2,13):\n",
    "        #distance 연산 변화\n",
    "        for dis in ['uniform','distance']:\n",
    "            \n",
    "            #규제 변화\n",
    "            for p in [1,2]:\n",
    "                \n",
    "                # 거리 연산 방식 변화\n",
    "                for me  in ['minkowski','manhattan']:\n",
    "                    classifier = KNeighborsClassifier(n_neighbors=k,weights=dis,p=p,metric=me)\n",
    "                    classifier.fit(X_train, y_train)\n",
    "                    y_pred= classifier.predict(X_test)\n",
    "                    accuracy =accuracy_score(y_test,y_pred)\n",
    "\n",
    "                    result.append([accuracy,me,p,dis,k,m])\n",
    "                    if accuracy >= Max_score:\n",
    "                        Max_score = accuracy\n",
    "                        max_model = classifier\n",
    "                        max_data = [X_test,y_test]\n",
    "                    else:\n",
    "                        pass\n",
    "\n",
    "    acc.append(Max_score)\n",
    "    model.append(classifier)\n",
    "    print(m,'done')"
   ]
  },
  {
   "cell_type": "code",
   "execution_count": 48,
   "metadata": {},
   "outputs": [],
   "source": [
    "import matplotlib.pyplot as plt"
   ]
  },
  {
   "cell_type": "code",
   "execution_count": 49,
   "metadata": {},
   "outputs": [
    {
     "data": {
      "text/html": [
       "<div>\n",
       "<style scoped>\n",
       "    .dataframe tbody tr th:only-of-type {\n",
       "        vertical-align: middle;\n",
       "    }\n",
       "\n",
       "    .dataframe tbody tr th {\n",
       "        vertical-align: top;\n",
       "    }\n",
       "\n",
       "    .dataframe thead th {\n",
       "        text-align: right;\n",
       "    }\n",
       "</style>\n",
       "<table border=\"1\" class=\"dataframe\">\n",
       "  <thead>\n",
       "    <tr style=\"text-align: right;\">\n",
       "      <th></th>\n",
       "      <th>test_accuracy</th>\n",
       "      <th>me</th>\n",
       "      <th>p</th>\n",
       "      <th>dis</th>\n",
       "      <th>k</th>\n",
       "      <th>m</th>\n",
       "    </tr>\n",
       "  </thead>\n",
       "  <tbody>\n",
       "    <tr>\n",
       "      <th>0</th>\n",
       "      <td>0.6928</td>\n",
       "      <td>minkowski</td>\n",
       "      <td>1</td>\n",
       "      <td>uniform</td>\n",
       "      <td>2</td>\n",
       "      <td>0</td>\n",
       "    </tr>\n",
       "    <tr>\n",
       "      <th>1</th>\n",
       "      <td>0.6928</td>\n",
       "      <td>manhattan</td>\n",
       "      <td>1</td>\n",
       "      <td>uniform</td>\n",
       "      <td>2</td>\n",
       "      <td>0</td>\n",
       "    </tr>\n",
       "    <tr>\n",
       "      <th>2</th>\n",
       "      <td>0.6878</td>\n",
       "      <td>minkowski</td>\n",
       "      <td>2</td>\n",
       "      <td>uniform</td>\n",
       "      <td>2</td>\n",
       "      <td>0</td>\n",
       "    </tr>\n",
       "    <tr>\n",
       "      <th>3</th>\n",
       "      <td>0.6928</td>\n",
       "      <td>manhattan</td>\n",
       "      <td>2</td>\n",
       "      <td>uniform</td>\n",
       "      <td>2</td>\n",
       "      <td>0</td>\n",
       "    </tr>\n",
       "    <tr>\n",
       "      <th>4</th>\n",
       "      <td>0.7032</td>\n",
       "      <td>minkowski</td>\n",
       "      <td>1</td>\n",
       "      <td>distance</td>\n",
       "      <td>2</td>\n",
       "      <td>0</td>\n",
       "    </tr>\n",
       "    <tr>\n",
       "      <th>...</th>\n",
       "      <td>...</td>\n",
       "      <td>...</td>\n",
       "      <td>...</td>\n",
       "      <td>...</td>\n",
       "      <td>...</td>\n",
       "      <td>...</td>\n",
       "    </tr>\n",
       "    <tr>\n",
       "      <th>875</th>\n",
       "      <td>0.7580</td>\n",
       "      <td>manhattan</td>\n",
       "      <td>2</td>\n",
       "      <td>uniform</td>\n",
       "      <td>12</td>\n",
       "      <td>9</td>\n",
       "    </tr>\n",
       "    <tr>\n",
       "      <th>876</th>\n",
       "      <td>0.7498</td>\n",
       "      <td>minkowski</td>\n",
       "      <td>1</td>\n",
       "      <td>distance</td>\n",
       "      <td>12</td>\n",
       "      <td>9</td>\n",
       "    </tr>\n",
       "    <tr>\n",
       "      <th>877</th>\n",
       "      <td>0.7498</td>\n",
       "      <td>manhattan</td>\n",
       "      <td>1</td>\n",
       "      <td>distance</td>\n",
       "      <td>12</td>\n",
       "      <td>9</td>\n",
       "    </tr>\n",
       "    <tr>\n",
       "      <th>878</th>\n",
       "      <td>0.7454</td>\n",
       "      <td>minkowski</td>\n",
       "      <td>2</td>\n",
       "      <td>distance</td>\n",
       "      <td>12</td>\n",
       "      <td>9</td>\n",
       "    </tr>\n",
       "    <tr>\n",
       "      <th>879</th>\n",
       "      <td>0.7498</td>\n",
       "      <td>manhattan</td>\n",
       "      <td>2</td>\n",
       "      <td>distance</td>\n",
       "      <td>12</td>\n",
       "      <td>9</td>\n",
       "    </tr>\n",
       "  </tbody>\n",
       "</table>\n",
       "<p>880 rows × 6 columns</p>\n",
       "</div>"
      ],
      "text/plain": [
       "     test_accuracy         me  p       dis   k  m\n",
       "0           0.6928  minkowski  1   uniform   2  0\n",
       "1           0.6928  manhattan  1   uniform   2  0\n",
       "2           0.6878  minkowski  2   uniform   2  0\n",
       "3           0.6928  manhattan  2   uniform   2  0\n",
       "4           0.7032  minkowski  1  distance   2  0\n",
       "..             ...        ... ..       ...  .. ..\n",
       "875         0.7580  manhattan  2   uniform  12  9\n",
       "876         0.7498  minkowski  1  distance  12  9\n",
       "877         0.7498  manhattan  1  distance  12  9\n",
       "878         0.7454  minkowski  2  distance  12  9\n",
       "879         0.7498  manhattan  2  distance  12  9\n",
       "\n",
       "[880 rows x 6 columns]"
      ]
     },
     "execution_count": 49,
     "metadata": {},
     "output_type": "execute_result"
    }
   ],
   "source": [
    "re = pd.DataFrame(result,columns=['test_accuracy','me','p','dis','k','m'])\n",
    "re"
   ]
  },
  {
   "cell_type": "code",
   "execution_count": 50,
   "metadata": {},
   "outputs": [
    {
     "data": {
      "text/plain": [
       "0.7696"
      ]
     },
     "execution_count": 50,
     "metadata": {},
     "output_type": "execute_result"
    }
   ],
   "source": [
    "max(acc)"
   ]
  },
  {
   "cell_type": "code",
   "execution_count": 51,
   "metadata": {},
   "outputs": [],
   "source": [
    "Max_model_n = model[acc.index(max(acc))]"
   ]
  },
  {
   "cell_type": "code",
   "execution_count": 53,
   "metadata": {
    "pycharm": {
     "name": "#%%\n"
    }
   },
   "outputs": [],
   "source": [
    "pd.DataFrame(Max_model_n.predict(max_data[0])).to_csv('20196248.csv')"
   ]
  },
  {
   "cell_type": "markdown",
   "metadata": {
    "pycharm": {
     "name": "#%% md\n"
    }
   },
   "source": [
    "input()"
   ]
  },
  {
   "cell_type": "code",
   "execution_count": null,
   "metadata": {},
   "outputs": [],
   "source": [
    "input()"
   ]
  },
  {
   "cell_type": "code",
   "execution_count": null,
   "metadata": {
    "pycharm": {
     "name": "#%%\n"
    }
   },
   "outputs": [],
   "source": []
  },
  {
   "cell_type": "code",
   "execution_count": null,
   "metadata": {
    "pycharm": {
     "name": "#%%\n"
    }
   },
   "outputs": [],
   "source": []
  },
  {
   "cell_type": "code",
   "execution_count": null,
   "metadata": {
    "pycharm": {
     "name": "#%%\n"
    }
   },
   "outputs": [],
   "source": []
  },
  {
   "cell_type": "code",
   "execution_count": null,
   "metadata": {},
   "outputs": [],
   "source": []
  },
  {
   "cell_type": "code",
   "execution_count": null,
   "metadata": {},
   "outputs": [],
   "source": []
  },
  {
   "cell_type": "code",
   "execution_count": null,
   "metadata": {},
   "outputs": [],
   "source": []
  }
 ],
 "metadata": {
  "colab": {
   "name": "Untitled7.ipynb",
   "provenance": []
  },
  "kernelspec": {
   "display_name": "Python 3 (ipykernel)",
   "language": "python",
   "name": "python3"
  },
  "language_info": {
   "codemirror_mode": {
    "name": "ipython",
    "version": 3
   },
   "file_extension": ".py",
   "mimetype": "text/x-python",
   "name": "python",
   "nbconvert_exporter": "python",
   "pygments_lexer": "ipython3",
   "version": "3.9.7"
  }
 },
 "nbformat": 4,
 "nbformat_minor": 1
}
